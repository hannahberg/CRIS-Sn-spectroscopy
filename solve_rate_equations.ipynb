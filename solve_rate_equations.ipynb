{
 "cells": [
  {
   "cell_type": "markdown",
   "metadata": {},
   "source": [
    "# Notebook for running Runge-Kutta4 solver on rate equations\n",
    "\n",
    "Made as a summer student at CERN, at the [CRIS](http://isolde-cris.web.cern.ch/isolde-cris/index.html) experiment at [ISOLDE](http://isolde.web.cern.ch/) for simulation of spontaneous emission, absorption and stimulated emission in an atom. This can be related in rate equations for how the radiation interacts with matter.\n",
    "1. Spontaneous emission \n",
    "2. Absorption\n",
    "3. Stimulated emssion\n",
    "\n",
    "\n",
    "This can be related trough the general rate equations with energy levels $i$ and $k$ where $i < k$\n",
    "\n",
    "$\\frac{dN_2}{dt} = N_1B_{12}\\rho(\\omega_{21}) - N_2B_{21} \\rho(\\omega_{21})- N_2A_{21}$\n",
    "\n",
    "\n",
    "$\\frac{dN_1}{dt} = -N_1B_{12}\\rho(\\omega_{21}) + N_2B_{21} \\rho(\\omega_{21}) +N_2A_{21} = - \\frac{dN_2}{dt} $\n",
    "\n",
    "This can be simulated for multiple levels, as long as the Einstein coefficients are available, it they are not, I have made the assumption that no transition is possible for consistency with experimental data available from [NIST Atomic Spectra Database Lines Data](https://physics.nist.gov/cgi-bin/ASD/lines1.pl?spectra=Sn+i&limits_type=0&low_w=&upp_w=&unit=1&de=0&java_out=Make+Grotrian+Diagram&format=0&line_out=0&en_unit=0&output=0&bibrefs=1&page_size=15&show_obs_wl=1&show_calc_wl=1&unc_out=1&order_out=0&max_low_enrg=&show_av=2&max_upp_enrg=&tsb_value=0&min_str=&A_out=0&intens_out=on&max_str=&allowed_out=1&forbid_out=1&min_accur=&min_intens=&conf_out=on&term_out=on&enrg_out=on&J_out=on)"
   ]
  },
  {
   "cell_type": "code",
   "execution_count": 2,
   "metadata": {
    "collapsed": true
   },
   "outputs": [],
   "source": [
    "%load_ext autoreload\n",
    "%load_ext line_profiler\n",
    "%autoreload 2"
   ]
  },
  {
   "cell_type": "code",
   "execution_count": 3,
   "metadata": {
    "collapsed": true
   },
   "outputs": [],
   "source": [
    "# import stuff\n",
    "import numpy as np\n",
    "import pandas as pd\n",
    "%matplotlib inline\n",
    "import matplotlib.pyplot as plt\n",
    "import glob\n",
    "import re\n",
    "import seaborn as sns\n",
    "from scipy.constants import pi, speed_of_light, hbar, Boltzmann, Planck, elementary_charge\n",
    "from scipy import signal\n",
    "import readstuff as rs\n"
   ]
  },
  {
   "cell_type": "code",
   "execution_count": 4,
   "metadata": {
    "collapsed": true
   },
   "outputs": [],
   "source": [
    "params = {'legend.fontsize': 'large',\n",
    "          'figure.figsize': (15, 10),\n",
    "         'axes.labelsize': 'xx-large',\n",
    "         'axes.titlesize':'xx-large',\n",
    "         'xtick.labelsize':'large',\n",
    "         'ytick.labelsize':'large'}\n",
    "plt.rcParams.update(params)\n",
    "plt.rcParams['figure.dpi']= 300"
   ]
  },
  {
   "cell_type": "markdown",
   "metadata": {
    "collapsed": true
   },
   "source": [
    "# Making a solver including pumping\n",
    "\n",
    "Some information we need:\n",
    "\n",
    "$laser_{linewidth} \\approx 10$ GHz\n",
    "\n",
    "$D_{beam} = 2-3$ mm\n",
    "\n",
    "$f_{pumping} = 100 $ Hz (how many pulses the laser fires)\n",
    "\n",
    "$t_{pump} \\approx 10$ ns (length of a single laser pulse)\n",
    "\n",
    "\n",
    "## Calculate the pumping coefficient $B$\n",
    "\n",
    "Using that $\\frac{A_{21}}{B_{21}} = \\frac{\\hbar\\omega_{21}^3}{\\pi^2c^3}$\n",
    "\n",
    "and \n",
    "\n",
    "$g_1B_{12} = g_2B_{21}$"
   ]
  },
  {
   "cell_type": "code",
   "execution_count": 5,
   "metadata": {
    "collapsed": true
   },
   "outputs": [],
   "source": [
    "def getB(A,freq):\n",
    "    return (A*pi**2*speed_of_light**3)/(hbar*(2*pi*freq)**3)"
   ]
  },
  {
   "cell_type": "markdown",
   "metadata": {},
   "source": [
    "## Calculate $\\rho_{max}$"
   ]
  },
  {
   "cell_type": "code",
   "execution_count": 6,
   "metadata": {
    "collapsed": true
   },
   "outputs": [],
   "source": [
    "def get_rho_tot(pulse_energy,beam_D,beam_duration):\n",
    "    return pulse_energy/((pi*(0.5*beam_D))**2*beam_duration*speed_of_light)\n",
    "\n",
    "def get_rho_max(laser_linewidth,pulse_energy,beam_D,beam_duration):\n",
    "    return (1/(pi*laser_linewidth))*np.sqrt(np.log(2)/pi)*get_rho_tot(pulse_energy,beam_D,beam_duration)"
   ]
  },
  {
   "cell_type": "markdown",
   "metadata": {
    "collapsed": true
   },
   "source": [
    "### Find the time of flight (when the voltage is 40 kV)"
   ]
  },
  {
   "cell_type": "code",
   "execution_count": 7,
   "metadata": {
    "collapsed": true
   },
   "outputs": [],
   "source": [
    "mass = 119.9021947*1.6605e-27 # [kg]\n",
    "E = 6.4087065e-15 #40000*1.602176565e-19 # [J]\n",
    "l = 1.20 # [m]\n",
    "v = np.sqrt(2*E/mass) # [m/s]\n",
    "tof = l/v # [s]\n",
    "# tof\n",
    "stps = int(tof/1e-9)\n",
    "TOF = stps*1e-9\n",
    "# TOF\n",
    "TOF2 = 1.35e-5\n",
    "stps2 = int(TOF2/1e-9)\n",
    "# stps2"
   ]
  },
  {
   "cell_type": "markdown",
   "metadata": {},
   "source": [
    "## Find all the laser parameters needed\n",
    " $\\lambda = v/f \\implies f = v/\\lambda \\implies f = c/\\lambda$"
   ]
  },
  {
   "cell_type": "code",
   "execution_count": 9,
   "metadata": {
    "collapsed": true
   },
   "outputs": [],
   "source": [
    "laser_width = 10*1e9 # [Hz]\n",
    "pumpf = 100\n",
    "tot_pump_per_sec = 1 - pumpf*10*1e-9 \n",
    "beaml = 10*1e-9 # [s]\n",
    "pumpav = tot_pump_per_sec/pumpf # how long th elaser is shut off at a time\n",
    "pump_t0 = tof/2 # when the laser first fires\n",
    "pE = 1e-3 # [J] pulse energy, measure instead\n",
    "beamD = 3*1e-3 # [m] "
   ]
  },
  {
   "cell_type": "markdown",
   "metadata": {
    "collapsed": true
   },
   "source": [
    "### Read in initial and final populations"
   ]
  },
  {
   "cell_type": "code",
   "execution_count": 14,
   "metadata": {
    "collapsed": true
   },
   "outputs": [],
   "source": [
    "def rd_fin(file,col=['level','pop']):\n",
    "    pd.read_csv(col,names=col2,delimiter=';',float_precision='high').apply(pd.to_numeric,errors='coerce').sort_values(by='level').reset_index(drop=True)"
   ]
  },
  {
   "cell_type": "code",
   "execution_count": 15,
   "metadata": {
    "collapsed": true
   },
   "outputs": [],
   "source": [
    "def rd_init(file,col =['level','xs']):\n",
    "    df = rd_fin(file,col)\n",
    "    return rs.renorm(df).sort_values(by='level').reset_index(drop=True)"
   ]
  },
  {
   "cell_type": "markdown",
   "metadata": {
    "collapsed": true
   },
   "source": [
    "## Find the relative strength of decay"
   ]
  },
  {
   "cell_type": "code",
   "execution_count": 10,
   "metadata": {
    "collapsed": true
   },
   "outputs": [],
   "source": [
    "# Normalize the Einsteincoefficients\n",
    "def normal_Einstein(dfa):\n",
    "    df = dfa.copy()\n",
    "    nlist = []\n",
    "    for u in range(np.max(df.k)+1):\n",
    "        upper = np.asarray(df[df.k == u].Aki)        \n",
    "        if len(upper) > 0:\n",
    "            nupper = upper/np.sum(upper)\n",
    "            nlist.append(nupper)\n",
    "    df['nAki'] = np.concatenate(np.array(nlist)).ravel()\n",
    "    return df"
   ]
  },
  {
   "cell_type": "markdown",
   "metadata": {
    "collapsed": true
   },
   "source": [
    "## Find maximum possible distribution of each level as $t\\rightarrow \\infty$"
   ]
  },
  {
   "cell_type": "code",
   "execution_count": 11,
   "metadata": {
    "collapsed": true
   },
   "outputs": [],
   "source": [
    "def find_max(initialpopulation, dfa_norm):\n",
    "    maxpop = np.array(initialpopulation['pop'].copy(),dtype=np.float128)\n",
    "    dfa = dfa_norm.copy().sort_values(by='Ek').reset_index(drop=True)\n",
    "    # first, find the levels that can decay multiple times trough different levels cascade\n",
    "    decaymore = np.full(len(dfa_norm),False)\n",
    "    \n",
    "    for k, (ak, akrow) in enumerate(dfa.iterrows()):\n",
    "        for i, (ai, airow) in enumerate(dfa.iterrows()):\n",
    "            if k!=i and int(akrow['i']) == int(airow['k']):\n",
    "                decaymore[ak] = True\n",
    "                print('k',ak,'   ',int(akrow['k']),'>',int(akrow['i']),'>', int(airow['k']),'>',int(airow['i']))\n",
    "\n",
    "    dfa['decaysmore'] = decaymore\n",
    "\n",
    "    #let the upper level decay first\n",
    "    fra = np.array(dfa['k']) # levels to decay from\n",
    "    til = np.array(dfa['i']) # levels to decay to\n",
    "    nAki = np.array(dfa['nAki'], dtype = np.float128)\n",
    "\n",
    "    lendiff = fra.size # length of dN/dt \n",
    "    mfra = np.max(fra) + 1 # highest upper level + 1 for indexing\n",
    "    mtil = np.max(til) + 1 # highest lower level + 1 for indexing\n",
    "    armax = np.arange(mfra)\n",
    "    armin = np.arange(mtil)\n",
    "    gridfra = (np.mgrid[:mfra,:lendiff] == fra)[0] # grids for uniquely grouping transmission\n",
    "    gridtil = (np.mgrid[:mtil,:lendiff] == til)[0]\n",
    "\n",
    "    def f(N):  # N = population\n",
    "        dN = np.zeros(len(N),dtype=np.float128)\n",
    "        diff = N[fra]*nAki # dN/dt change in population\n",
    "        # summing dN/dt for each unique level\n",
    "        temp1 = (gridfra*diff).sum(axis=1) \n",
    "        temp2 = (gridtil*diff).sum(axis=1)\n",
    "        dN[armax] -= temp1 # decay from upper levels\n",
    "        dN[armin] += temp2 # decay to lower levels\n",
    "        return dN\n",
    "    \n",
    "    for k, (a,arow) in enumerate(dfa.iterrows()):\n",
    "        # letting the levels transmit to lower levels that can decay\n",
    "        if arow.decaysmore == True:\n",
    "            diff = initialpopulation['pop'][int(arow.k)]*arow.nAki\n",
    "            maxpop[int(arow.k)] -= diff\n",
    "            maxpop[int(arow.i)] += diff\n",
    "            print(int(arow.k),int(arow.i))\n",
    "    endpop = maxpop + f(maxpop)\n",
    "    plt.vlines(initialpopulation['level'], np.zeros(len(endpop)), endpop, colors='k', linestyles='solid')\n",
    "    plt.ylabel('Distribution')\n",
    "    plt.xlabel(r'Wavenumber $[cm^{-1}]$')\n",
    "    return endpop, dfa\n"
   ]
  },
  {
   "cell_type": "markdown",
   "metadata": {
    "collapsed": true
   },
   "source": [
    "## Find pumping routes"
   ]
  },
  {
   "cell_type": "code",
   "execution_count": 12,
   "metadata": {
    "collapsed": true
   },
   "outputs": [],
   "source": [
    "def pumpxtoy(x,y,df,tol=0.05):\n",
    "    pxy = df[(((df.i == y)& (df.nAki > tol)) | ((df.i == x) & (df.nAki < 0.5))) & (df.nAki != 1)].sort_values(by='k').reset_index(drop=True)\n",
    "    return pxy[pxy.duplicated(subset='k', keep=False)].sort_values(by=['Ek','i','nAki'])"
   ]
  },
  {
   "cell_type": "markdown",
   "metadata": {
    "collapsed": true
   },
   "source": [
    "## Calculate wavelengths"
   ]
  },
  {
   "cell_type": "code",
   "execution_count": 13,
   "metadata": {
    "collapsed": true
   },
   "outputs": [],
   "source": [
    "def add_wave(df):\n",
    "    df['wavelength'] = normal_emc3['wavelength'] = (1/(df.Ek-df.Ei))*1e-2*1e9\n",
    "    return df"
   ]
  },
  {
   "cell_type": "markdown",
   "metadata": {
    "collapsed": true
   },
   "source": [
    "## Solve the rate equations"
   ]
  },
  {
   "cell_type": "code",
   "execution_count": null,
   "metadata": {
    "collapsed": true
   },
   "outputs": [],
   "source": [
    "def solver_vec(df_A,initialpop,stop,steps,pumpab=[1,2,3,5],pumpstart=0.5*tof, pumpduration=beaml,pumpoff=pumpav,laser_linewidth=laser_width,pulse_energy=pE,beam_D=beamD,pumping=False):\n",
    "    time = np.linspace(0,stop,steps)\n",
    "    dt = time[1] - time[0]; dt2 = dt*0.001\n",
    "    laserfreq = np.asarray(speed_of_light/(df_A.loc[pumpab].wavelength*1e-9),dtype=np.float128)\n",
    "    print(laserfreq)\n",
    "#     if abs(np.log10(stop) - np.log10(dt)) < 3:\n",
    "#         print(dt)\n",
    "#         raise ValueError(\"More steps needed for enough accuracy!\")\n",
    "    rho_on = get_rho_max(laser_linewidth,pulse_energy,beam_D,pumpduration)\n",
    "#     rho_on = get_new_rho(nu=laserfreq)\n",
    "    population = np.array(initialpop['pop'].copy(),dtype=np.float128)\n",
    "    p_ev = np.zeros((steps,len(population))) # get the time evolution of the population\n",
    "    print('rho',rho_on)\n",
    "    fra = np.array(df_A['k']) # levels to decay from\n",
    "    til = np.array(df_A['i']) # levels to decay to\n",
    "    Aki = np.array(df_A['Aki'], dtype = np.float128)\n",
    "    Akino = Aki.copy()\n",
    "    Akino[1:6] = 0\n",
    "    print(Akino)\n",
    "    print(Aki)\n",
    "    lendiff = fra.size # length of dN/dt \n",
    "    mfra = np.max(fra) + 1 # highest upper level + 1 for indexing\n",
    "    mtil = np.max(til) + 1 # highest lower level + 1 for indexing\n",
    "    armax = np.arange(mfra); armin = np.arange(mtil)\n",
    "    gridfra = (np.mgrid[:mfra,:lendiff] == fra)[0] # grids for uniquely grouping transmission\n",
    "    gridtil = (np.mgrid[:mtil,:lendiff] == til)[0]\n",
    "\n",
    "    # setting levels for pumping and finding the B coefficients\n",
    "    A_ba = df_A.iloc[pumpab]\n",
    "    print('aki', A_ba['Aki'])\n",
    "    B_ba = np.asarray(getB(np.asarray(A_ba['Aki']),laserfreq),dtype=np.float128)\n",
    "\n",
    "    # degeneracy of from lower level a, to upper level b\n",
    "    gb = 2*newn2.sort_values(by='Ek').reset_index(drop=True).loc[pumpab].u_J + 1 \n",
    "    ga = 2*newn2.sort_values(by='Ek').reset_index(drop=True).loc[pumpab].l_J + 1#g = 2J+1\n",
    "    B_ab = np.asarray((gb/ga)*B_ba,dtype=np.float128)# replace with g factor when time comes\n",
    "    a = np.asarray(A_ba['i'],dtype=int); b = np.asarray(A_ba['k'],dtype=int)\n",
    "    print(a,b)\n",
    "    l_fra = np.array(A_ba['i']) # levels to pump from\n",
    "    l_til = np.array(A_ba['k']) # levels to pump to\n",
    "    l_Aki = np.array(A_ba['Aki'], dtype = np.float128)\n",
    "    print('fra', l_fra, 'til ',l_til)\n",
    "    l_lendiff = l_fra.size # length of dN/dt \n",
    "    l_mfra = np.max(l_fra) + 1 # highest upper level + 1 for indexing\n",
    "    l_mtil = np.max(l_til) + 1 # highest lower level + 1 for indexing\n",
    "    l_armax = np.arange(l_mfra); l_armin = np.arange(l_mtil)\n",
    "    l_gridfra = (np.mgrid[:l_mfra,:l_lendiff] == l_fra)[0] # grids for uniquely grouping transmission\n",
    "    l_gridtil = (np.mgrid[:l_mtil,:l_lendiff] == l_til)[0]\n",
    "    print('l_mfra ',l_mfra,'lmtil',l_mtil)\n",
    "    print('l_armax',l_armax,'l_armin',l_armin)\n",
    "    print('l_gridfra',l_gridfra)\n",
    "    print('l_gridtil',l_gridtil)\n",
    "    indexl = np.asarray(np.unique(np.append(a,b)),dtype=int)\n",
    "    print(indexl)\n",
    "    \n",
    "    \n",
    "    totsteps = int((stop-pumpduration)/dt + pumpduration/dt2)\n",
    "    pop_ev = np.zeros((len(indexl),totsteps+1))\n",
    "    print(pop_ev.shape)\n",
    "    pop_ev[:,0] = population[indexl]\n",
    "    print(pop_ev.shape)\n",
    "    def f(N,laserlock=False):\n",
    "        if laserlock == True:\n",
    "            diff = N[fra]*Akino # pumping\n",
    "        else:\n",
    "            diff = N[fra]*Aki # dN/dt change in population\n",
    "        dN = np.zeros(len(N),dtype=np.float128)\n",
    "        # summing dN/dt for each unique level\n",
    "        temp1 = (gridfra*diff).sum(axis=1) # subtracting \n",
    "        temp2 = (gridtil*diff).sum(axis=1) # adding     \n",
    "        dN[armax] -= temp1 # decay from upper levels\n",
    "        dN[armin] += temp2 # decay to lower levels\n",
    "        return dN # = dN/dt\n",
    "    \n",
    "    def fl(N): \n",
    "        Na = N[a]\n",
    "        Nb = N[b] \n",
    "        pump = Na*B_ab*rho_on #- Nb*B_ba*rho_on\n",
    "        dN = f(N,True)\n",
    "        dNcopy = np.zeros(len(dN))\n",
    "        pumpa = (l_gridfra*pump).sum(axis=1)\n",
    "        pumpb = (l_gridtil*pump).sum(axis=1)\n",
    "        dNcopy[l_armax] -= pumpa\n",
    "        dNcopy[l_armin] += pumpb\n",
    "        dN += dNcopy\n",
    "        return dN\n",
    "    \n",
    "    def rk4(N,laser=False):\n",
    "        if laser == True:\n",
    "            k1 = dt2*fl(N)\n",
    "            k2 = dt2*fl(N + 0.5*k1)\n",
    "            k3 = dt2*fl(N + 0.5*k2)\n",
    "            k4 = dt2*fl(N + k3)\n",
    "        else:\n",
    "            k1 = dt*f(N)\n",
    "            k2 = dt*f(N + 0.5*k1)\n",
    "            k3 = dt*f(N + 0.5*k2)\n",
    "            k4 = dt*f(N + k3)\n",
    "        u_new = N + (1/6.0)*(k1 + 2*k2 + 2*k3 + k4)\n",
    "        return u_new\n",
    "    \n",
    "    t = int(0)\n",
    "    tid = 0\n",
    "    t_vec = np.zeros(totsteps+1)\n",
    "    \n",
    "    if pumping == True:  # implement pumping\n",
    "        while tid < pumpstart:\n",
    "            \n",
    "            population = rk4(population)\n",
    "            t += 1\n",
    "            pop_ev[:,t] = population[indexl]\n",
    "            t_vec[t] = tid\n",
    "            tid += dt\n",
    "            \n",
    "        while pumpstart <= tid <= pumpstart + pumpduration:\n",
    "            population = rk4(population,True)\n",
    "            t += 1\n",
    "            pop_ev[:,t] = population[indexl]\n",
    "            t_vec[t] = tid\n",
    "            tid += dt2\n",
    "        if abs(np.sum(population) - np.sum(initialpop['pop'])) > 1e-7:\n",
    "            print(abs(np.sum(population) - np.sum(initialpop['pop'])))\n",
    "            raise ValueError(\"Distribution not conserved\")\n",
    "        print(abs(np.sum(population) - np.sum(initialpop['pop'])))\n",
    "        t_vec = np.trim_zeros(t_vec,'b')\n",
    "        return population, pop_ev[:,:len(t_vec)], t_vec\n",
    "        while tid < stop:\n",
    "            population = rk4(population)\n",
    "            t += 1\n",
    "            pop_ev[:,t] = population[indexl]\n",
    "            t_vec[t+1] = tid\n",
    "            tid += dt \n",
    "        if pumping == False:\n",
    "            if abs(np.sum(population) - np.sum(initialpop['pop'])) > 1e-7:\n",
    "                print(abs(np.sum(population) - np.sum(initialpop['pop'])))\n",
    "                raise ValueError(\"Distribution not conserved\")\n",
    "            return population\n",
    "\n",
    "    \n",
    "    print(abs(np.sum(population) - np.sum(initialpop['pop'])))\n",
    "    if pumping == True:\n",
    "        return population, pop_ev, t_vec\n",
    "    else:\n",
    "        return population"
   ]
  },
  {
   "cell_type": "code",
   "execution_count": null,
   "metadata": {
    "collapsed": true
   },
   "outputs": [],
   "source": []
  },
  {
   "cell_type": "code",
   "execution_count": null,
   "metadata": {
    "collapsed": true
   },
   "outputs": [],
   "source": []
  },
  {
   "cell_type": "code",
   "execution_count": null,
   "metadata": {
    "collapsed": true
   },
   "outputs": [],
   "source": []
  },
  {
   "cell_type": "code",
   "execution_count": null,
   "metadata": {
    "collapsed": true
   },
   "outputs": [],
   "source": []
  },
  {
   "cell_type": "code",
   "execution_count": null,
   "metadata": {
    "collapsed": true
   },
   "outputs": [],
   "source": []
  },
  {
   "cell_type": "code",
   "execution_count": null,
   "metadata": {
    "collapsed": true
   },
   "outputs": [],
   "source": []
  },
  {
   "cell_type": "code",
   "execution_count": null,
   "metadata": {
    "collapsed": true
   },
   "outputs": [],
   "source": []
  },
  {
   "cell_type": "code",
   "execution_count": null,
   "metadata": {
    "collapsed": true
   },
   "outputs": [],
   "source": []
  },
  {
   "cell_type": "code",
   "execution_count": null,
   "metadata": {
    "collapsed": true
   },
   "outputs": [],
   "source": []
  },
  {
   "cell_type": "code",
   "execution_count": null,
   "metadata": {
    "collapsed": true
   },
   "outputs": [],
   "source": []
  },
  {
   "cell_type": "code",
   "execution_count": null,
   "metadata": {
    "collapsed": true
   },
   "outputs": [],
   "source": []
  },
  {
   "cell_type": "code",
   "execution_count": null,
   "metadata": {
    "collapsed": true
   },
   "outputs": [],
   "source": []
  },
  {
   "cell_type": "code",
   "execution_count": null,
   "metadata": {
    "collapsed": true
   },
   "outputs": [],
   "source": []
  },
  {
   "cell_type": "code",
   "execution_count": null,
   "metadata": {
    "collapsed": true
   },
   "outputs": [],
   "source": []
  },
  {
   "cell_type": "code",
   "execution_count": null,
   "metadata": {
    "collapsed": true
   },
   "outputs": [],
   "source": []
  },
  {
   "cell_type": "code",
   "execution_count": null,
   "metadata": {
    "collapsed": true
   },
   "outputs": [],
   "source": []
  },
  {
   "cell_type": "code",
   "execution_count": null,
   "metadata": {
    "collapsed": true
   },
   "outputs": [],
   "source": []
  },
  {
   "cell_type": "code",
   "execution_count": null,
   "metadata": {
    "collapsed": true
   },
   "outputs": [],
   "source": []
  },
  {
   "cell_type": "code",
   "execution_count": null,
   "metadata": {
    "collapsed": true
   },
   "outputs": [],
   "source": []
  },
  {
   "cell_type": "code",
   "execution_count": null,
   "metadata": {
    "collapsed": true
   },
   "outputs": [],
   "source": []
  },
  {
   "cell_type": "code",
   "execution_count": null,
   "metadata": {
    "collapsed": true
   },
   "outputs": [],
   "source": []
  },
  {
   "cell_type": "code",
   "execution_count": null,
   "metadata": {
    "collapsed": true
   },
   "outputs": [],
   "source": []
  },
  {
   "cell_type": "code",
   "execution_count": null,
   "metadata": {
    "collapsed": true
   },
   "outputs": [],
   "source": []
  },
  {
   "cell_type": "code",
   "execution_count": null,
   "metadata": {
    "collapsed": true
   },
   "outputs": [],
   "source": []
  },
  {
   "cell_type": "code",
   "execution_count": null,
   "metadata": {
    "collapsed": true
   },
   "outputs": [],
   "source": []
  },
  {
   "cell_type": "code",
   "execution_count": null,
   "metadata": {
    "collapsed": true
   },
   "outputs": [],
   "source": []
  },
  {
   "cell_type": "code",
   "execution_count": null,
   "metadata": {
    "collapsed": true
   },
   "outputs": [],
   "source": []
  },
  {
   "cell_type": "code",
   "execution_count": null,
   "metadata": {
    "collapsed": true
   },
   "outputs": [],
   "source": []
  },
  {
   "cell_type": "code",
   "execution_count": null,
   "metadata": {
    "collapsed": true
   },
   "outputs": [],
   "source": []
  },
  {
   "cell_type": "code",
   "execution_count": null,
   "metadata": {
    "collapsed": true
   },
   "outputs": [],
   "source": []
  },
  {
   "cell_type": "code",
   "execution_count": null,
   "metadata": {
    "collapsed": true
   },
   "outputs": [],
   "source": []
  },
  {
   "cell_type": "code",
   "execution_count": null,
   "metadata": {
    "collapsed": true
   },
   "outputs": [],
   "source": []
  },
  {
   "cell_type": "code",
   "execution_count": null,
   "metadata": {
    "collapsed": true
   },
   "outputs": [],
   "source": []
  },
  {
   "cell_type": "code",
   "execution_count": null,
   "metadata": {
    "collapsed": true
   },
   "outputs": [],
   "source": []
  },
  {
   "cell_type": "code",
   "execution_count": null,
   "metadata": {
    "collapsed": true
   },
   "outputs": [],
   "source": []
  },
  {
   "cell_type": "code",
   "execution_count": null,
   "metadata": {
    "collapsed": true
   },
   "outputs": [],
   "source": []
  },
  {
   "cell_type": "code",
   "execution_count": null,
   "metadata": {
    "collapsed": true
   },
   "outputs": [],
   "source": []
  },
  {
   "cell_type": "code",
   "execution_count": null,
   "metadata": {
    "collapsed": true
   },
   "outputs": [],
   "source": []
  },
  {
   "cell_type": "code",
   "execution_count": null,
   "metadata": {
    "collapsed": true
   },
   "outputs": [],
   "source": []
  },
  {
   "cell_type": "code",
   "execution_count": null,
   "metadata": {
    "collapsed": true
   },
   "outputs": [],
   "source": []
  },
  {
   "cell_type": "code",
   "execution_count": null,
   "metadata": {
    "collapsed": true
   },
   "outputs": [],
   "source": []
  },
  {
   "cell_type": "code",
   "execution_count": null,
   "metadata": {
    "collapsed": true
   },
   "outputs": [],
   "source": []
  },
  {
   "cell_type": "code",
   "execution_count": null,
   "metadata": {
    "collapsed": true
   },
   "outputs": [],
   "source": []
  },
  {
   "cell_type": "code",
   "execution_count": null,
   "metadata": {
    "collapsed": true
   },
   "outputs": [],
   "source": []
  },
  {
   "cell_type": "code",
   "execution_count": null,
   "metadata": {
    "collapsed": true
   },
   "outputs": [],
   "source": []
  },
  {
   "cell_type": "code",
   "execution_count": null,
   "metadata": {
    "collapsed": true
   },
   "outputs": [],
   "source": []
  },
  {
   "cell_type": "code",
   "execution_count": null,
   "metadata": {
    "collapsed": true
   },
   "outputs": [],
   "source": []
  },
  {
   "cell_type": "code",
   "execution_count": null,
   "metadata": {
    "collapsed": true
   },
   "outputs": [],
   "source": []
  }
 ],
 "metadata": {
  "kernelspec": {
   "display_name": "Python 3",
   "language": "python",
   "name": "python3"
  },
  "language_info": {
   "codemirror_mode": {
    "name": "ipython",
    "version": 3
   },
   "file_extension": ".py",
   "mimetype": "text/x-python",
   "name": "python",
   "nbconvert_exporter": "python",
   "pygments_lexer": "ipython3",
   "version": "3.6.3"
  }
 },
 "nbformat": 4,
 "nbformat_minor": 2
}
